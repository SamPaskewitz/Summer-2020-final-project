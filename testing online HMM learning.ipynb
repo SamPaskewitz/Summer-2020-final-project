{
 "cells": [
  {
   "cell_type": "code",
   "execution_count": 1,
   "metadata": {},
   "outputs": [],
   "source": [
    "from hmm import *\n",
    "import numpy as np"
   ]
  },
  {
   "cell_type": "code",
   "execution_count": 2,
   "metadata": {},
   "outputs": [
    {
     "name": "stdout",
     "output_type": "stream",
     "text": [
      "true\n",
      "[[0.5 0.5]\n",
      " [0.5 0.5]]\n",
      "[[0.95 0.05]\n",
      " [0.05 0.95]]\n",
      "\n",
      "start\n",
      "[[0.48 0.52]\n",
      " [0.5  0.5 ]]\n",
      "[[0.45 0.55]\n",
      " [0.54 0.46]]\n",
      "\n",
      "estimated\n",
      "[[0. 1.]\n",
      " [0. 1.]]\n",
      "[[0.43 0.57]\n",
      " [0.5  0.5 ]]\n"
     ]
    }
   ],
   "source": [
    "#np.array([[0.2, 0.8], [0.2, 0.8]])\n",
    "#np.array([[0.8, 0.2], [0.8, 0.2]])\n",
    "hmm0 = hmm(A = np.array([[0.5, 0.5], [0.5, 0.5]]), B = np.array([[0.95, 0.05], [0.05, 0.95]]))\n",
    "print('true')\n",
    "print(np.round(hmm0.A, 2))\n",
    "print(np.round(hmm0.B, 2))\n",
    "\n",
    "model = learn_hmm(hmm = hmm0, n_state = 2, eta = 0.0005, a0 = None, b0 = None)\n",
    "print()\n",
    "print('start')\n",
    "print(np.round(model.a, 2))\n",
    "print(np.round(model.b, 2))\n",
    "\n",
    "model.learn(10000)\n",
    "print()\n",
    "print('estimated')\n",
    "print(np.round(model.a, 2))\n",
    "print(np.round(model.b, 2))"
   ]
  },
  {
   "cell_type": "code",
   "execution_count": null,
   "metadata": {},
   "outputs": [],
   "source": []
  }
 ],
 "metadata": {
  "kernelspec": {
   "display_name": "Python 3",
   "language": "python",
   "name": "python3"
  },
  "language_info": {
   "codemirror_mode": {
    "name": "ipython",
    "version": 3
   },
   "file_extension": ".py",
   "mimetype": "text/x-python",
   "name": "python",
   "nbconvert_exporter": "python",
   "pygments_lexer": "ipython3",
   "version": "3.7.3"
  }
 },
 "nbformat": 4,
 "nbformat_minor": 4
}
