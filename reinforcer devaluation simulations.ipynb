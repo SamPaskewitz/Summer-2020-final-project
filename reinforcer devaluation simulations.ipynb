{
 "cells": [
  {
   "cell_type": "code",
   "execution_count": 22,
   "metadata": {},
   "outputs": [],
   "source": [
    "from environments import reinf_deval\n",
    "from agents import qlearn, dynaq, po_qlearn, po_dynaq\n",
    "from pomdp import *\n",
    "from mdp import *\n",
    "from plotnine import *\n",
    "from scipy.stats import ttest_ind\n",
    "import numpy as np\n",
    "import pandas as pd\n",
    "\n",
    "n_rats = 20 # number of 'stats rats' per group\n",
    "env = reinf_deval() # define environment (go/no-go reversal learning)"
   ]
  },
  {
   "cell_type": "code",
   "execution_count": 36,
   "metadata": {},
   "outputs": [
    {
     "name": "stdout",
     "output_type": "stream",
     "text": [
      "[0.05 0.47 0.47 0.   0.   0.  ]\n",
      "[0.05 0.47 0.47 0.   0.   0.  ]\n",
      "[1. 0. 0. 0. 0. 0.]\n",
      "[0. 0. 0. 1. 0. 0.]\n",
      "[1. 0. 0. 0. 0. 0.]\n",
      "[0. 0. 0. 0. 1. 0.]\n",
      "[1. 0. 0. 0. 0. 0.]\n",
      "[1. 0. 0. 0. 0. 0.]\n",
      "[1. 0. 0. 0. 0. 0.]\n",
      "[1. 0. 0. 0. 0. 0.]\n",
      "[0.17 0.17 0.17 0.17 0.17 0.17]\n",
      "[0.17 0.17 0.17 0.17 0.17 0.17]\n"
     ]
    }
   ],
   "source": [
    "# POMDP that approximates the reinforcer devaluation task\n",
    "iti_prob = 0.25\n",
    "noise_factor = 0.001\n",
    "\n",
    "A = np.zeros((6, 6, 2)) # transition array\n",
    "A[0, 0, :] = iti_prob # ITI -> ITI\n",
    "A[0, [1, 2], :] = (1 - iti_prob)/2 # ITI -> sound 1 or sound 2\n",
    "A[1, 3, 1] = 1 # sound 1, go to well -> food 1\n",
    "A[2, 4, 1] = 1 # sound 2, go to well -> food 2\n",
    "A[[1, 2], 0, 0] = 1 # trial ends after sitting there\n",
    "A[[3, 4], 0, 0] = 1 # trial ends after sitting there\n",
    "A[[3, 4], 0, 1] = 1 # trial ends after eating\n",
    "#A[5, 0, :] = 1 # trial ends after nausea\n",
    "# define observation array\n",
    "B = np.zeros((6, 6, 2)) # observation matrix\n",
    "B[0, 0, :] = 1 # ITI\n",
    "B[1, 1, :] = 1 # sound 1\n",
    "B[2, 2, :] = 1 # sound 2\n",
    "B[3, 3, :] = 1 # food 1\n",
    "B[4, 4, :] = 1 # food 2\n",
    "B[5, 5, :] = 1 # nausea\n",
    "# define reward array\n",
    "R = np.zeros((6, 6, 2))\n",
    "R[3, 5, 1] = 1 # food 1, eat -> ITI\n",
    "R[4, 5, 1] = 1 # food 2, eat -> ITI\n",
    "\n",
    "# add noise/make any transition possible\n",
    "for i in range(6):\n",
    "    for j in range(2):\n",
    "        numerator = A[i, :, j] + noise_factor\n",
    "        A[i, :, j] = numerator/np.sum(numerator)\n",
    "        print(np.round(A[i, :, j], 2))\n",
    "        \n",
    "# create POMDP using A, B and R defined above\n",
    "deval_pomdp = pomdp(A = A, B = B, R = R)\n",
    "# create MDP using A and R defined above\n",
    "deval_mdp = mdp(A = A, R = R)"
   ]
  },
  {
   "cell_type": "code",
   "execution_count": 34,
   "metadata": {},
   "outputs": [
    {
     "name": "stdout",
     "output_type": "stream",
     "text": [
      "[[0.12 0.07]\n",
      " [0.04 0.53]\n",
      " [0.03 0.53]\n",
      " [0.03 1.06]\n",
      " [0.04 1.06]\n",
      " [0.   0.  ]]\n"
     ]
    }
   ],
   "source": [
    "# Simulate regular q-learning.\n",
    "model = qlearn(env = env, learning_rate = 0.1, epsilon = 0.05, gamma = 0.5)\n",
    "model.learn(1)\n",
    "print(np.round(model.q, 2))"
   ]
  },
  {
   "cell_type": "code",
   "execution_count": 38,
   "metadata": {},
   "outputs": [
    {
     "name": "stdout",
     "output_type": "stream",
     "text": [
      "[[0.05 0.04]\n",
      " [0.02 0.12]\n",
      " [0.03 0.21]\n",
      " [0.02 0.29]\n",
      " [0.02 0.35]\n",
      " [0.12 0.06]]\n"
     ]
    }
   ],
   "source": [
    "# Simulate Dyna-Q.\n",
    "model = dynaq(env = env, mdp = deval_mdp, learning_rate = 0.1, epsilon = 0.05, gamma = 0.5, n_dyna = 1)\n",
    "model.learn(1)\n",
    "print(np.round(model.q, 2))"
   ]
  },
  {
   "cell_type": "code",
   "execution_count": 8,
   "metadata": {},
   "outputs": [
    {
     "name": "stdout",
     "output_type": "stream",
     "text": [
      "[[0.13 0.07]\n",
      " [0.02 0.53]\n",
      " [0.04 0.53]\n",
      " [0.02 1.06]\n",
      " [0.03 1.06]\n",
      " [0.   0.  ]]\n"
     ]
    }
   ],
   "source": [
    "# Simulate POMDP q-learning.\n",
    "model = po_qlearn(env = env, pomdp = deval_pomdp, learning_rate = 0.1, epsilon = 0.05, gamma = 0.5)\n",
    "model.learn(1)\n",
    "print(np.round(model.q, 2))"
   ]
  },
  {
   "cell_type": "code",
   "execution_count": 19,
   "metadata": {},
   "outputs": [
    {
     "name": "stdout",
     "output_type": "stream",
     "text": [
      "[[0.04 0.05]\n",
      " [0.02 0.12]\n",
      " [0.02 0.1 ]\n",
      " [0.02 0.24]\n",
      " [0.02 0.19]\n",
      " [0.   0.  ]]\n"
     ]
    }
   ],
   "source": [
    "# Simulate POMDP Dyna-Q.\n",
    "model = po_dynaq(env = env, pomdp = deval_pomdp, learning_rate = 0.1, epsilon = 0.05, gamma = 0.5, n_dyna = 3)\n",
    "model.learn(1)\n",
    "print(np.round(model.q, 2))"
   ]
  },
  {
   "cell_type": "code",
   "execution_count": 10,
   "metadata": {},
   "outputs": [
    {
     "ename": "NameError",
     "evalue": "name 'rev_pomdp' is not defined",
     "output_type": "error",
     "traceback": [
      "\u001b[0;31m---------------------------------------------------------------------------\u001b[0m",
      "\u001b[0;31mNameError\u001b[0m                                 Traceback (most recent call last)",
      "\u001b[0;32m<ipython-input-10-161e163ab35a>\u001b[0m in \u001b[0;36m<module>\u001b[0;34m\u001b[0m\n\u001b[1;32m      5\u001b[0m \u001b[0mrwd_lesion1\u001b[0m \u001b[0;34m=\u001b[0m \u001b[0;34m[\u001b[0m\u001b[0;34m]\u001b[0m\u001b[0;34m\u001b[0m\u001b[0;34m\u001b[0m\u001b[0m\n\u001b[1;32m      6\u001b[0m \u001b[0;32mfor\u001b[0m \u001b[0mi\u001b[0m \u001b[0;32min\u001b[0m \u001b[0mrange\u001b[0m\u001b[0;34m(\u001b[0m\u001b[0mn_rats\u001b[0m\u001b[0;34m)\u001b[0m\u001b[0;34m:\u001b[0m\u001b[0;34m\u001b[0m\u001b[0;34m\u001b[0m\u001b[0m\n\u001b[0;32m----> 7\u001b[0;31m     \u001b[0mmodel\u001b[0m \u001b[0;34m=\u001b[0m \u001b[0mpo_qlearn\u001b[0m\u001b[0;34m(\u001b[0m\u001b[0menv\u001b[0m \u001b[0;34m=\u001b[0m \u001b[0menv\u001b[0m\u001b[0;34m,\u001b[0m \u001b[0mpomdp\u001b[0m \u001b[0;34m=\u001b[0m \u001b[0mrev_pomdp\u001b[0m\u001b[0;34m,\u001b[0m \u001b[0mlearning_rate\u001b[0m \u001b[0;34m=\u001b[0m \u001b[0;36m0.1\u001b[0m\u001b[0;34m,\u001b[0m \u001b[0mepsilon\u001b[0m \u001b[0;34m=\u001b[0m \u001b[0;36m0.05\u001b[0m\u001b[0;34m,\u001b[0m \u001b[0mgamma\u001b[0m \u001b[0;34m=\u001b[0m \u001b[0;36m0.5\u001b[0m\u001b[0;34m)\u001b[0m\u001b[0;34m\u001b[0m\u001b[0;34m\u001b[0m\u001b[0m\n\u001b[0m\u001b[1;32m      8\u001b[0m     \u001b[0mmodel\u001b[0m\u001b[0;34m.\u001b[0m\u001b[0mlearn\u001b[0m\u001b[0;34m(\u001b[0m\u001b[0;36m1\u001b[0m\u001b[0;34m)\u001b[0m\u001b[0;34m\u001b[0m\u001b[0;34m\u001b[0m\u001b[0m\n\u001b[1;32m      9\u001b[0m     \u001b[0mrwd_keep\u001b[0m \u001b[0;34m=\u001b[0m \u001b[0mmodel\u001b[0m\u001b[0;34m.\u001b[0m\u001b[0mrwd_list\u001b[0m\u001b[0;34m.\u001b[0m\u001b[0mloc\u001b[0m\u001b[0;34m[\u001b[0m\u001b[0mmodel\u001b[0m\u001b[0;34m.\u001b[0m\u001b[0mobs_list\u001b[0m\u001b[0;34m.\u001b[0m\u001b[0misin\u001b[0m\u001b[0;34m(\u001b[0m\u001b[0;34m[\u001b[0m\u001b[0;36m1\u001b[0m\u001b[0;34m,\u001b[0m \u001b[0;36m2\u001b[0m\u001b[0;34m]\u001b[0m\u001b[0;34m)\u001b[0m\u001b[0;34m]\u001b[0m\u001b[0;34m\u001b[0m\u001b[0;34m\u001b[0m\u001b[0m\n",
      "\u001b[0;31mNameError\u001b[0m: name 'rev_pomdp' is not defined"
     ]
    }
   ],
   "source": [
    "# Compare regular and POMDP q-learning.\n",
    "rwd_ctrl0 = []\n",
    "rwd_lesion0 = []\n",
    "rwd_ctrl1 = []\n",
    "rwd_lesion1 = []\n",
    "for i in range(n_rats):\n",
    "    model = po_qlearn(env = env, pomdp = rev_pomdp, learning_rate = 0.1, epsilon = 0.05, gamma = 0.5)\n",
    "    model.learn(1)\n",
    "    rwd_keep = model.rwd_list.loc[model.obs_list.isin([1, 2])]\n",
    "    rwd_ctrl0 += [np.mean(rwd_keep[0:250])]\n",
    "    rwd_ctrl1 += [np.mean(rwd_keep[250:])]\n",
    "    model = qlearn(env = env, learning_rate = 0.1, epsilon = 0.05, gamma = 0.5)\n",
    "    model.learn(1)\n",
    "    rwd_keep = model.rwd_list.loc[model.obs_list.isin([1, 2])]\n",
    "    rwd_lesion0 += [np.mean(rwd_keep[0:250])]\n",
    "    rwd_lesion1 += [np.mean(rwd_keep[250:])]\n",
    "df = pd.DataFrame({'rwd_initial' : rwd_ctrl0 + rwd_lesion0, 'rwd_reversal' : rwd_ctrl1 + rwd_lesion1, 'group' : n_rats*['control'] + n_rats*['lesion']})\n",
    "\n",
    "print('initial learning')\n",
    "print(np.round(ttest_ind(rwd_ctrl0, rwd_lesion0).statistic, 2))\n",
    "print(np.round(ttest_ind(rwd_ctrl0, rwd_lesion0).pvalue, 4))\n",
    "p0 = (ggplot(df, aes('group', 'rwd_initial'))\n",
    " + geom_boxplot())\n",
    "p0.draw()\n",
    "print()\n",
    "print('reversal')\n",
    "print(np.round(ttest_ind(rwd_ctrl1, rwd_lesion1).statistic, 2))\n",
    "print(np.round(ttest_ind(rwd_ctrl1, rwd_lesion1).pvalue, 4))\n",
    "p1 = (ggplot(df, aes('group', 'rwd_reversal'))\n",
    " + geom_boxplot())\n",
    "p1.draw()"
   ]
  },
  {
   "cell_type": "code",
   "execution_count": null,
   "metadata": {},
   "outputs": [],
   "source": []
  }
 ],
 "metadata": {
  "kernelspec": {
   "display_name": "Python 3",
   "language": "python",
   "name": "python3"
  },
  "language_info": {
   "codemirror_mode": {
    "name": "ipython",
    "version": 3
   },
   "file_extension": ".py",
   "mimetype": "text/x-python",
   "name": "python",
   "nbconvert_exporter": "python",
   "pygments_lexer": "ipython3",
   "version": "3.7.3"
  }
 },
 "nbformat": 4,
 "nbformat_minor": 4
}
